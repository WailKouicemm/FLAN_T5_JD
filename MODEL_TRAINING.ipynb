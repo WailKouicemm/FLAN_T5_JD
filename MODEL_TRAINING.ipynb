{
 "cells": [
  {
   "cell_type": "code",
   "execution_count": 1,
   "metadata": {},
   "outputs": [],
   "source": [
    "import pandas as pd\n",
    "import torch\n",
    "import matplotlib.pyplot as plt\n",
    "import logging\n",
    "logging.getLogger(\"transformers.tokenization_utils_base\").setLevel(logging.ERROR)\n",
    "from torch.utils.data import Dataset\n"
   ]
  },
  {
   "cell_type": "code",
   "execution_count": 2,
   "metadata": {},
   "outputs": [
    {
     "data": {
      "text/html": [
       "<div>\n",
       "<style scoped>\n",
       "    .dataframe tbody tr th:only-of-type {\n",
       "        vertical-align: middle;\n",
       "    }\n",
       "\n",
       "    .dataframe tbody tr th {\n",
       "        vertical-align: top;\n",
       "    }\n",
       "\n",
       "    .dataframe thead th {\n",
       "        text-align: right;\n",
       "    }\n",
       "</style>\n",
       "<table border=\"1\" class=\"dataframe\">\n",
       "  <thead>\n",
       "    <tr style=\"text-align: right;\">\n",
       "      <th></th>\n",
       "      <th>Prompt</th>\n",
       "      <th>Target</th>\n",
       "    </tr>\n",
       "  </thead>\n",
       "  <tbody>\n",
       "    <tr>\n",
       "      <th>0</th>\n",
       "      <td>Write a job description for AI Scientist role ...</td>\n",
       "      <td>Paige is a software company helping pathologis...</td>\n",
       "    </tr>\n",
       "    <tr>\n",
       "      <th>1</th>\n",
       "      <td>Write a job description for Quantitative Resea...</td>\n",
       "      <td>About the Position\\n\\n\\nAt Jane Street, we con...</td>\n",
       "    </tr>\n",
       "    <tr>\n",
       "      <th>2</th>\n",
       "      <td>Write a job description for VP, Data Science r...</td>\n",
       "      <td>We are looking for a VP, Data Science to lead ...</td>\n",
       "    </tr>\n",
       "    <tr>\n",
       "      <th>3</th>\n",
       "      <td>Write a job description for Quantitative Resea...</td>\n",
       "      <td>Job Description\\n\\nQuantitative Researchers at...</td>\n",
       "    </tr>\n",
       "    <tr>\n",
       "      <th>4</th>\n",
       "      <td>Write a job description for Senior Data Engine...</td>\n",
       "      <td>Key Responsibilities\\n\\n- Architect, build, an...</td>\n",
       "    </tr>\n",
       "    <tr>\n",
       "      <th>...</th>\n",
       "      <td>...</td>\n",
       "      <td>...</td>\n",
       "    </tr>\n",
       "    <tr>\n",
       "      <th>1023</th>\n",
       "      <td>Write a job description for JPSC-7975 - Data A...</td>\n",
       "      <td>Overview\\n\\nRole: Data Analyst Lead – Informat...</td>\n",
       "    </tr>\n",
       "    <tr>\n",
       "      <th>1024</th>\n",
       "      <td>Write a job description for Principal Data Eng...</td>\n",
       "      <td>ComResource is looking for a Principal Data En...</td>\n",
       "    </tr>\n",
       "    <tr>\n",
       "      <th>1025</th>\n",
       "      <td>Write a job description for Columbus Data Scie...</td>\n",
       "      <td>#Columbus Data Science Tutor Jobs\\n\\nVarsity T...</td>\n",
       "    </tr>\n",
       "    <tr>\n",
       "      <th>1026</th>\n",
       "      <td>Write a job description for AWS Data Engineer ...</td>\n",
       "      <td>About Us\\n\\nTachyon Technologies is a Digital ...</td>\n",
       "    </tr>\n",
       "    <tr>\n",
       "      <th>1027</th>\n",
       "      <td>Write a job description for Data Analyst â Jun...</td>\n",
       "      <td>Job description\\nInterpret data, analyze resul...</td>\n",
       "    </tr>\n",
       "  </tbody>\n",
       "</table>\n",
       "<p>1028 rows × 2 columns</p>\n",
       "</div>"
      ],
      "text/plain": [
       "                                                 Prompt  \\\n",
       "0     Write a job description for AI Scientist role ...   \n",
       "1     Write a job description for Quantitative Resea...   \n",
       "2     Write a job description for VP, Data Science r...   \n",
       "3     Write a job description for Quantitative Resea...   \n",
       "4     Write a job description for Senior Data Engine...   \n",
       "...                                                 ...   \n",
       "1023  Write a job description for JPSC-7975 - Data A...   \n",
       "1024  Write a job description for Principal Data Eng...   \n",
       "1025  Write a job description for Columbus Data Scie...   \n",
       "1026  Write a job description for AWS Data Engineer ...   \n",
       "1027  Write a job description for Data Analyst â Jun...   \n",
       "\n",
       "                                                 Target  \n",
       "0     Paige is a software company helping pathologis...  \n",
       "1     About the Position\\n\\n\\nAt Jane Street, we con...  \n",
       "2     We are looking for a VP, Data Science to lead ...  \n",
       "3     Job Description\\n\\nQuantitative Researchers at...  \n",
       "4     Key Responsibilities\\n\\n- Architect, build, an...  \n",
       "...                                                 ...  \n",
       "1023  Overview\\n\\nRole: Data Analyst Lead – Informat...  \n",
       "1024  ComResource is looking for a Principal Data En...  \n",
       "1025  #Columbus Data Science Tutor Jobs\\n\\nVarsity T...  \n",
       "1026  About Us\\n\\nTachyon Technologies is a Digital ...  \n",
       "1027  Job description\\nInterpret data, analyze resul...  \n",
       "\n",
       "[1028 rows x 2 columns]"
      ]
     },
     "execution_count": 2,
     "metadata": {},
     "output_type": "execute_result"
    }
   ],
   "source": [
    "import pandas as pd\n",
    "data = pd.read_csv('Processed_data.csv')\n",
    "df = pd.read_csv(\"DataScientist.csv\" , index_col=0).drop(\"index\",axis=1)\n",
    "data\n"
   ]
  },
  {
   "cell_type": "code",
   "execution_count": 3,
   "metadata": {},
   "outputs": [
    {
     "name": "stderr",
     "output_type": "stream",
     "text": [
      "/home/wailk/.local/lib/python3.10/site-packages/tqdm/auto.py:21: TqdmWarning: IProgress not found. Please update jupyter and ipywidgets. See https://ipywidgets.readthedocs.io/en/stable/user_install.html\n",
      "  from .autonotebook import tqdm as notebook_tqdm\n"
     ]
    },
    {
     "data": {
      "text/plain": [
       "Dataset({\n",
       "    features: ['Prompt', 'Target'],\n",
       "    num_rows: 1028\n",
       "})"
      ]
     },
     "execution_count": 3,
     "metadata": {},
     "output_type": "execute_result"
    }
   ],
   "source": [
    "from datasets import Dataset\n",
    "dataset = Dataset.from_pandas(data)\n",
    "dataset"
   ]
  },
  {
   "cell_type": "code",
   "execution_count": 4,
   "metadata": {},
   "outputs": [
    {
     "data": {
      "text/plain": [
       "DatasetDict({\n",
       "    train: Dataset({\n",
       "        features: ['Prompt', 'Target'],\n",
       "        num_rows: 822\n",
       "    })\n",
       "    validation: Dataset({\n",
       "        features: ['Prompt', 'Target'],\n",
       "        num_rows: 206\n",
       "    })\n",
       "})"
      ]
     },
     "execution_count": 4,
     "metadata": {},
     "output_type": "execute_result"
    }
   ],
   "source": [
    "datasets = dataset.train_test_split(train_size=0.8,seed=42)\n",
    "datasets[\"validation\"] = datasets.pop(\"test\")\n",
    "datasets"
   ]
  },
  {
   "cell_type": "code",
   "execution_count": 5,
   "metadata": {},
   "outputs": [
    {
     "name": "stderr",
     "output_type": "stream",
     "text": [
      "2024-08-11 15:20:30.248658: I tensorflow/core/util/port.cc:153] oneDNN custom operations are on. You may see slightly different numerical results due to floating-point round-off errors from different computation orders. To turn them off, set the environment variable `TF_ENABLE_ONEDNN_OPTS=0`.\n",
      "2024-08-11 15:20:30.375051: E external/local_xla/xla/stream_executor/cuda/cuda_fft.cc:485] Unable to register cuFFT factory: Attempting to register factory for plugin cuFFT when one has already been registered\n",
      "2024-08-11 15:20:30.426279: E external/local_xla/xla/stream_executor/cuda/cuda_dnn.cc:8454] Unable to register cuDNN factory: Attempting to register factory for plugin cuDNN when one has already been registered\n",
      "2024-08-11 15:20:30.441088: E external/local_xla/xla/stream_executor/cuda/cuda_blas.cc:1452] Unable to register cuBLAS factory: Attempting to register factory for plugin cuBLAS when one has already been registered\n",
      "2024-08-11 15:20:30.532225: I tensorflow/core/platform/cpu_feature_guard.cc:210] This TensorFlow binary is optimized to use available CPU instructions in performance-critical operations.\n",
      "To enable the following instructions: AVX2 AVX512F AVX512_VNNI FMA, in other operations, rebuild TensorFlow with the appropriate compiler flags.\n",
      "2024-08-11 15:20:31.684585: W tensorflow/compiler/tf2tensorrt/utils/py_utils.cc:38] TF-TRT Warning: Could not find TensorRT\n"
     ]
    }
   ],
   "source": [
    "from transformers import AutoTokenizer, AutoModelForSeq2SeqLM, DataCollatorWithPadding, Trainer, TrainingArguments"
   ]
  },
  {
   "cell_type": "code",
   "execution_count": 6,
   "metadata": {},
   "outputs": [
    {
     "name": "stderr",
     "output_type": "stream",
     "text": [
      "/home/wailk/.local/lib/python3.10/site-packages/transformers/tokenization_utils_base.py:1601: FutureWarning: `clean_up_tokenization_spaces` was not set. It will be set to `True` by default. This behavior will be depracted in transformers v4.45, and will be then set to `False` by default. For more details check this issue: https://github.com/huggingface/transformers/issues/31884\n",
      "  warnings.warn(\n"
     ]
    }
   ],
   "source": [
    "tokenizer = AutoTokenizer.from_pretrained(\"google/flan-t5-base\")"
   ]
  },
  {
   "cell_type": "code",
   "execution_count": 7,
   "metadata": {},
   "outputs": [],
   "source": [
    "model = AutoModelForSeq2SeqLM.from_pretrained(\"google/flan-t5-base\")"
   ]
  },
  {
   "cell_type": "code",
   "execution_count": 8,
   "metadata": {},
   "outputs": [],
   "source": [
    "def tokenize_function(example):\n",
    "\n",
    "    tokenized_prompt = tokenizer(example['Prompt'], truncation=True, padding=True)\n",
    "    tokenized_target = tokenizer(example['Target'], truncation=True, padding='max_length', max_length=512)\n",
    "\n",
    "    return {\n",
    "        'input_ids': tokenized_prompt['input_ids'],\n",
    "        'attention_mask': tokenized_prompt['attention_mask'],\n",
    "        'labels': tokenized_target['input_ids']\n",
    "    }\n",
    "\n"
   ]
  },
  {
   "cell_type": "code",
   "execution_count": 9,
   "metadata": {},
   "outputs": [
    {
     "name": "stderr",
     "output_type": "stream",
     "text": [
      "Map:   0%|          | 0/822 [00:00<?, ? examples/s]"
     ]
    },
    {
     "name": "stderr",
     "output_type": "stream",
     "text": [
      "Map: 100%|██████████| 822/822 [00:00<00:00, 2314.87 examples/s]\n",
      "Map: 100%|██████████| 206/206 [00:00<00:00, 2250.41 examples/s]\n"
     ]
    }
   ],
   "source": [
    "tokenized_datasets = datasets.map(tokenize_function, batched=True)\n",
    "data_collator = DataCollatorWithPadding(tokenizer=tokenizer)"
   ]
  },
  {
   "cell_type": "code",
   "execution_count": 10,
   "metadata": {},
   "outputs": [],
   "source": [
    "tokenized_datasets = tokenized_datasets.remove_columns(['Prompt', 'Target'])\n",
    "tokenized_datasets.set_format(\"torch\")"
   ]
  },
  {
   "cell_type": "code",
   "execution_count": 11,
   "metadata": {},
   "outputs": [
    {
     "data": {
      "text/plain": [
       "['input_ids', 'attention_mask', 'labels']"
      ]
     },
     "execution_count": 11,
     "metadata": {},
     "output_type": "execute_result"
    }
   ],
   "source": [
    "tokenized_datasets[\"validation\"].column_names"
   ]
  },
  {
   "cell_type": "code",
   "execution_count": 12,
   "metadata": {},
   "outputs": [
    {
     "data": {
      "text/plain": [
       "['input_ids', 'attention_mask', 'labels']"
      ]
     },
     "execution_count": 12,
     "metadata": {},
     "output_type": "execute_result"
    }
   ],
   "source": [
    "tokenized_datasets[\"train\"].column_names"
   ]
  },
  {
   "cell_type": "code",
   "execution_count": 13,
   "metadata": {},
   "outputs": [
    {
     "data": {
      "text/plain": [
       "device(type='cpu')"
      ]
     },
     "execution_count": 13,
     "metadata": {},
     "output_type": "execute_result"
    }
   ],
   "source": [
    "device = torch.device(\"cuda\" if torch.cuda.is_available() else \"cpu\")\n",
    "model.to(device)\n",
    "device"
   ]
  },
  {
   "cell_type": "code",
   "execution_count": 14,
   "metadata": {},
   "outputs": [],
   "source": [
    "from torch.utils.data import DataLoader\n",
    "\n",
    "train_dataloader = DataLoader(\n",
    "    tokenized_datasets[\"train\"], shuffle=True, batch_size=2, collate_fn=data_collator\n",
    ")\n",
    "val_dataloader = DataLoader(\n",
    "    tokenized_datasets[\"validation\"], batch_size=8, collate_fn=data_collator\n",
    ")\n",
    "\n"
   ]
  },
  {
   "cell_type": "code",
   "execution_count": 15,
   "metadata": {},
   "outputs": [
    {
     "name": "stderr",
     "output_type": "stream",
     "text": [
      "/home/wailk/.local/lib/python3.10/site-packages/transformers/optimization.py:591: FutureWarning: This implementation of AdamW is deprecated and will be removed in a future version. Use the PyTorch implementation torch.optim.AdamW instead, or set `no_deprecation_warning=True` to disable this warning\n",
      "  warnings.warn(\n"
     ]
    }
   ],
   "source": [
    "from transformers import AdamW\n",
    "\n",
    "optimizer = AdamW(model.parameters(), lr=5e-5)"
   ]
  },
  {
   "cell_type": "code",
   "execution_count": 16,
   "metadata": {},
   "outputs": [
    {
     "name": "stdout",
     "output_type": "stream",
     "text": [
      "4110\n"
     ]
    }
   ],
   "source": [
    "from transformers import get_scheduler\n",
    "\n",
    "num_epochs = 10\n",
    "num_training_steps = num_epochs * len(train_dataloader)\n",
    "lr_scheduler = get_scheduler(\n",
    "    \"linear\",\n",
    "    optimizer=optimizer,\n",
    "    num_warmup_steps=0,\n",
    "    num_training_steps=num_training_steps,\n",
    ")\n",
    "print(num_training_steps)"
   ]
  },
  {
   "cell_type": "code",
   "execution_count": 17,
   "metadata": {},
   "outputs": [],
   "source": [
    "from torch.cuda.amp import GradScaler, autocast"
   ]
  },
  {
   "cell_type": "code",
   "execution_count": 18,
   "metadata": {},
   "outputs": [
    {
     "name": "stderr",
     "output_type": "stream",
     "text": [
      "100%|██████████| 4110/4110 [14:00:50<00:00, 13.26s/it]   "
     ]
    },
    {
     "data": {
      "image/png": "[encoded data removed]",
      "text/plain": [
       "<Figure size 1000x500 with 1 Axes>"
      ]
     },
     "metadata": {},
     "output_type": "display_data"
    }
   ],
   "source": [
    "from tqdm.auto import tqdm\n",
    "\n",
    "progress_bar = tqdm(range(num_training_steps))\n",
    "training_losses = []  # To store training losses\n",
    "validation_losses = []  # To store validation losses\n",
    "\n",
    "model.train()\n",
    "for epoch in range(num_epochs):\n",
    "    epoch_training_loss = 0.0\n",
    "\n",
    "    for batch in train_dataloader:\n",
    "        batch = {k: v.to(device) for k, v in batch.items()}\n",
    "        outputs = model(**batch)\n",
    "        loss = outputs.loss\n",
    "        loss.backward()\n",
    "\n",
    "        optimizer.step()\n",
    "        lr_scheduler.step()\n",
    "        optimizer.zero_grad()\n",
    "\n",
    "        epoch_training_loss += loss.item()\n",
    "\n",
    "        progress_bar.update(1)\n",
    "\n",
    "    # Calculate and record the average training loss for the epoch\n",
    "    avg_training_loss = epoch_training_loss / len(train_dataloader)\n",
    "    training_losses.append(avg_training_loss)\n",
    "\n",
    "    # Calculate the validation loss at the end of each epoch\n",
    "    model.eval()\n",
    "    with torch.no_grad():\n",
    "        epoch_validation_loss = 0.0\n",
    "        for batch in val_dataloader:\n",
    "            batch = {k: v.to(device) for k, v in batch.items()}\n",
    "            outputs = model(**batch)\n",
    "            loss = outputs.loss\n",
    "            epoch_validation_loss += loss.item()\n",
    "\n",
    "        avg_validation_loss = epoch_validation_loss / len(val_dataloader)\n",
    "        validation_losses.append(avg_validation_loss)\n",
    "\n",
    "    model.train()\n",
    "\n",
    "# Plot the training and validation losses variation over the epochs\n",
    "plt.figure(figsize=(10, 5))\n",
    "plt.plot(training_losses, label='Training Loss')\n",
    "plt.plot(validation_losses, label='Validation Loss')\n",
    "plt.xlabel('Epoch')\n",
    "plt.ylabel('Loss')\n",
    "plt.legend()\n",
    "plt.show()\n"
   ]
  },
  {
   "cell_type": "code",
   "execution_count": 19,
   "metadata": {},
   "outputs": [
    {
     "data": {
      "text/html": [
       "<div>\n",
       "<style scoped>\n",
       "    .dataframe tbody tr th:only-of-type {\n",
       "        vertical-align: middle;\n",
       "    }\n",
       "\n",
       "    .dataframe tbody tr th {\n",
       "        vertical-align: top;\n",
       "    }\n",
       "\n",
       "    .dataframe thead th {\n",
       "        text-align: right;\n",
       "    }\n",
       "</style>\n",
       "<table border=\"1\" class=\"dataframe\">\n",
       "  <thead>\n",
       "    <tr style=\"text-align: right;\">\n",
       "      <th></th>\n",
       "      <th>Training loss</th>\n",
       "      <th>Validation loss</th>\n",
       "    </tr>\n",
       "    <tr>\n",
       "      <th>epoch</th>\n",
       "      <th></th>\n",
       "      <th></th>\n",
       "    </tr>\n",
       "  </thead>\n",
       "  <tbody>\n",
       "    <tr>\n",
       "      <th>1</th>\n",
       "      <td>3.407310</td>\n",
       "      <td>2.036819</td>\n",
       "    </tr>\n",
       "    <tr>\n",
       "      <th>2</th>\n",
       "      <td>2.221094</td>\n",
       "      <td>1.969401</td>\n",
       "    </tr>\n",
       "    <tr>\n",
       "      <th>3</th>\n",
       "      <td>2.127615</td>\n",
       "      <td>1.910409</td>\n",
       "    </tr>\n",
       "    <tr>\n",
       "      <th>4</th>\n",
       "      <td>2.063890</td>\n",
       "      <td>1.876398</td>\n",
       "    </tr>\n",
       "    <tr>\n",
       "      <th>5</th>\n",
       "      <td>2.019064</td>\n",
       "      <td>1.851532</td>\n",
       "    </tr>\n",
       "    <tr>\n",
       "      <th>6</th>\n",
       "      <td>1.979201</td>\n",
       "      <td>1.831808</td>\n",
       "    </tr>\n",
       "    <tr>\n",
       "      <th>7</th>\n",
       "      <td>1.947234</td>\n",
       "      <td>1.816399</td>\n",
       "    </tr>\n",
       "    <tr>\n",
       "      <th>8</th>\n",
       "      <td>1.925052</td>\n",
       "      <td>1.804457</td>\n",
       "    </tr>\n",
       "    <tr>\n",
       "      <th>9</th>\n",
       "      <td>1.910078</td>\n",
       "      <td>1.798289</td>\n",
       "    </tr>\n",
       "    <tr>\n",
       "      <th>10</th>\n",
       "      <td>1.899273</td>\n",
       "      <td>1.795836</td>\n",
       "    </tr>\n",
       "  </tbody>\n",
       "</table>\n",
       "</div>"
      ],
      "text/plain": [
       "       Training loss  Validation loss\n",
       "epoch                                \n",
       "1           3.407310         2.036819\n",
       "2           2.221094         1.969401\n",
       "3           2.127615         1.910409\n",
       "4           2.063890         1.876398\n",
       "5           2.019064         1.851532\n",
       "6           1.979201         1.831808\n",
       "7           1.947234         1.816399\n",
       "8           1.925052         1.804457\n",
       "9           1.910078         1.798289\n",
       "10          1.899273         1.795836"
      ]
     },
     "metadata": {},
     "output_type": "display_data"
    }
   ],
   "source": [
    "display(pd.DataFrame({'epoch':[1,2,3,4,5,6,7,8,9,10], 'Training loss':training_losses, 'Validation loss':validation_losses}).set_index('epoch'))"
   ]
  },
  {
   "cell_type": "code",
   "execution_count": 21,
   "metadata": {},
   "outputs": [
    {
     "name": "stdout",
     "output_type": "stream",
     "text": [
      "Model saved to /home/wailk/Desktop/JobDescription/model.pth\n"
     ]
    }
   ],
   "source": [
    "\n",
    "# Save the model, optimizer, and learning rate scheduler\n",
    "save_path = '/home/wailk/Desktop/JobDescription/model.pth'\n",
    "torch.save({\n",
    "    'epoch': num_epochs,\n",
    "    'model_state_dict': model.state_dict(),\n",
    "    'optimizer_state_dict': optimizer.state_dict(),\n",
    "    'lr_scheduler_state_dict': lr_scheduler.state_dict(),\n",
    "    'training_losses': training_losses,\n",
    "    'validation_losses': validation_losses\n",
    "}, save_path)\n",
    "\n",
    "print(f\"Model saved to {save_path}\")\n"
   ]
  },
  {
   "cell_type": "code",
   "execution_count": 22,
   "metadata": {},
   "outputs": [],
   "source": [
    "def generate_description(prompt):\n",
    "    \"\"\" It takes a prompt as input and return the job description\"\"\"\n",
    "    # Encoding the prompt\n",
    "    input_ids = tokenizer(prompt, return_tensors='pt', padding = True, truncation=True)['input_ids'].to(device)\n",
    "\n",
    "    output = model.generate(input_ids, max_length=512) # generates an output\n",
    "\n",
    "    # Decoding the output to get the generated text\n",
    "    decoded_output = [tokenizer.decode(output[0], skip_special_tokens=True)][0]\n",
    "    return decoded_output"
   ]
  },
  {
   "cell_type": "code",
   "execution_count": 26,
   "metadata": {},
   "outputs": [
    {
     "name": "stdout",
     "output_type": "stream",
     "text": [
      "prompt :\n",
      "Write a job description for networking role proposed by \"sonatrach\", a company founded on 2019 that has now a size of +200 employees and works on IT Services industry industry in the Information Technology sector. The job proposed is in skikda meanwhile the headquarter of the company is in alger. The salary estimate is $50K-$100K\n",
      " \n",
      "model's output :\n",
      "Job Description Job Description - Dedicated to providing the best in customer experience, we are looking for a highly motivated, driven and motivated individual to join our team. The ideal candidate w\n"
     ]
    }
   ],
   "source": [
    "job_title = 'networking'\n",
    "company_name = 'sonatrach'\n",
    "year = 2019\n",
    "size = '+200 employees'\n",
    "industry = 'IT Services industry'\n",
    "sector = 'Information Technology'\n",
    "location = 'skikda'\n",
    "headquarter = 'alger'\n",
    "salary_estimate = '$50K-$100K'\n",
    "prompt = f'Write a job description for {job_title} role proposed by \"{company_name}\", a company founded on {year} that has now a size of {size} and works on {industry} industry in the {sector} sector. The job proposed is in {location} meanwhile the headquarter of the company is in {headquarter}. The salary estimate is {salary_estimate}'\n",
    "description = generate_description(prompt)\n",
    "\n",
    "print('prompt :')\n",
    "print(prompt)\n",
    "print(' ')\n",
    "print(\"model's output :\")\n",
    "print(description[:200])"
   ]
  }
 ],
 "metadata": {
  "kernelspec": {
   "display_name": "Python 3",
   "language": "python",
   "name": "python3"
  },
  "language_info": {
   "codemirror_mode": {
    "name": "ipython",
    "version": 3
   },
   "file_extension": ".py",
   "mimetype": "text/x-python",
   "name": "python",
   "nbconvert_exporter": "python",
   "pygments_lexer": "ipython3",
   "version": "3.10.12"
  }
 },
 "nbformat": 4,
 "nbformat_minor": 2
}
